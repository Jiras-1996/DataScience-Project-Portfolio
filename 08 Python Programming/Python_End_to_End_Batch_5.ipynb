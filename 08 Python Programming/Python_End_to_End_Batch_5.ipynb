{
  "cells": [
    {
      "cell_type": "markdown",
      "metadata": {
        "colab_type": "text",
        "id": "view-in-github"
      },
      "source": [
        "<a href=\"https://colab.research.google.com/github/Jiras-1996/DataRockie-Bootcamp-Project/blob/main/Python_End_to_End_Batch_5.ipynb\" target=\"_parent\"><img src=\"https://colab.research.google.com/assets/colab-badge.svg\" alt=\"Open In Colab\"/></a>"
      ]
    },
    {
      "cell_type": "markdown",
      "metadata": {
        "id": "uxY8ZSIDxxo6"
      },
      "source": [
        "# **Python End to End (Batch 5)**\n",
        "\n",
        "Contents :\n",
        "- Varaible\n",
        "- Data Type\n",
        "- String\n",
        "- Data Structure\n",
        "- Function\n",
        "- Control Flow\n",
        "- OOP (Object Oriented Programming)\n",
        "\n"
      ]
    },
    {
      "cell_type": "code",
      "execution_count": null,
      "metadata": {
        "colab": {
          "base_uri": "https://localhost:8080/"
        },
        "id": "04Jpw74ZxOfW",
        "outputId": "7b7ebeef-fb46-4000-cec1-5bbaa7bcdf77"
      },
      "outputs": [
        {
          "name": "stdout",
          "output_type": "stream",
          "text": [
            "3\n",
            "4\n",
            "2.5\n",
            "2\n",
            "2\n",
            "1\n"
          ]
        }
      ],
      "source": [
        "# basic computation\n",
        "print(1 + 2)\n",
        "print(2 * 2)\n",
        "print(5 / 2)\n",
        "print(5 // 2) #floor division\n",
        "print(6 - 4)\n",
        "print(5 % 2) #modulo"
      ]
    },
    {
      "cell_type": "code",
      "execution_count": null,
      "metadata": {
        "id": "w0Z4FoBYzVHc"
      },
      "outputs": [],
      "source": [
        "# variable\n",
        "income = 50000\n",
        "expense = 28000\n",
        "saving = income - expense"
      ]
    },
    {
      "cell_type": "code",
      "execution_count": null,
      "metadata": {
        "colab": {
          "base_uri": "https://localhost:8080/"
        },
        "id": "0o3jFy8tzgjD",
        "outputId": "0c7bff3e-8bb4-49de-83d1-14b25935b4fb"
      },
      "outputs": [
        {
          "name": "stdout",
          "output_type": "stream",
          "text": [
            "22000\n"
          ]
        }
      ],
      "source": [
        "print(saving)"
      ]
    },
    {
      "cell_type": "code",
      "execution_count": null,
      "metadata": {
        "colab": {
          "base_uri": "https://localhost:8080/",
          "height": 182
        },
        "id": "2jm1x__Zzrst",
        "outputId": "5043bc44-a0dc-454b-cb9b-02293b2883d2"
      },
      "outputs": [
        {
          "ename": "NameError",
          "evalue": "ignored",
          "output_type": "error",
          "traceback": [
            "\u001b[0;31m---------------------------------------------------------------------------\u001b[0m",
            "\u001b[0;31mNameError\u001b[0m                                 Traceback (most recent call last)",
            "\u001b[0;32m<ipython-input-4-dd4b75aec550>\u001b[0m in \u001b[0;36m<module>\u001b[0;34m\u001b[0m\n\u001b[1;32m      1\u001b[0m \u001b[0;32mdel\u001b[0m \u001b[0msaving\u001b[0m\u001b[0;34m\u001b[0m\u001b[0;34m\u001b[0m\u001b[0m\n\u001b[0;32m----> 2\u001b[0;31m \u001b[0mprint\u001b[0m\u001b[0;34m(\u001b[0m\u001b[0msaving\u001b[0m\u001b[0;34m)\u001b[0m\u001b[0;34m\u001b[0m\u001b[0;34m\u001b[0m\u001b[0m\n\u001b[0m",
            "\u001b[0;31mNameError\u001b[0m: name 'saving' is not defined"
          ]
        }
      ],
      "source": [
        "del saving\n",
        "print(saving)"
      ]
    },
    {
      "cell_type": "code",
      "execution_count": null,
      "metadata": {
        "id": "U2qBiqJpzyp_"
      },
      "outputs": [],
      "source": [
        "# string variable\n",
        "my_name = \"toy\" #\"toy\"\n",
        "my_age = 33"
      ]
    },
    {
      "cell_type": "code",
      "execution_count": null,
      "metadata": {
        "id": "26RAxnTr0UkO"
      },
      "outputs": [],
      "source": [
        "print(\"Hello! my name is \" + my_name + \" and I'm \" + str(my_age) + \" years old\")"
      ]
    },
    {
      "cell_type": "code",
      "execution_count": null,
      "metadata": {
        "id": "W-6eTA3l0pmj"
      },
      "outputs": [],
      "source": [
        "# F-STRING\n",
        "text = f\"Hello! my name is {my_name} and I'm {my_age} years old\"\n",
        "print(text)"
      ]
    },
    {
      "cell_type": "code",
      "execution_count": null,
      "metadata": {
        "id": "t8umfJ4i1Bgr"
      },
      "outputs": [],
      "source": [
        "# type hinting (hint but not enforce)\n",
        "data type -> str , int , float ,bool\n",
        "\n",
        "name: str = \"Toy\"\n",
        "age: int = 25\n",
        "gpa: float = 3.52\n",
        "movie_lover: bool = True # False"
      ]
    },
    {
      "cell_type": "code",
      "execution_count": null,
      "metadata": {
        "id": "LqpSFJg43TMN"
      },
      "outputs": [],
      "source": [
        "name = \"Toy\"\n",
        "isinstance(name, str)"
      ]
    },
    {
      "cell_type": "markdown",
      "metadata": {
        "id": "n2CVlu_73hNK"
      },
      "source": [
        "## **Function**\n"
      ]
    },
    {
      "cell_type": "code",
      "execution_count": null,
      "metadata": {
        "colab": {
          "base_uri": "https://localhost:8080/"
        },
        "id": "2tyBpGFS36gt",
        "outputId": "e66ff2f6-329b-4907-87db-00097064ec5a"
      },
      "outputs": [
        {
          "name": "stdout",
          "output_type": "stream",
          "text": [
            "Hello! top. We live in London.\n"
          ]
        }
      ],
      "source": [
        "# create your own function\n",
        "def greeting_name(name, city):\n",
        "  print(f\"Hello! {name}. We live in {city}.\")\n",
        "\n",
        "name = \"top\"\n",
        "city = \"London\"\n",
        "greeting_name(name, city) # name is parameter and top is argument"
      ]
    },
    {
      "cell_type": "code",
      "execution_count": null,
      "metadata": {
        "colab": {
          "base_uri": "https://localhost:8080/"
        },
        "id": "P6g2S3QO4JWu",
        "outputId": "6235095f-46fc-47d7-f610-d7f7f87de2f2"
      },
      "outputs": [
        {
          "name": "stdout",
          "output_type": "stream",
          "text": [
            "Hello! top. We live in london.\n"
          ]
        }
      ],
      "source": [
        "greeting_name(city= \"london\" , name = \"top\")"
      ]
    },
    {
      "cell_type": "code",
      "execution_count": null,
      "metadata": {
        "id": "o1qFHlU953C7"
      },
      "outputs": [],
      "source": [
        "# default argument\n",
        "def greeting_name(name, city = \"London\"):\n",
        "  print(f\"Hello! {name}. We live in {city}.\")"
      ]
    },
    {
      "cell_type": "code",
      "execution_count": null,
      "metadata": {
        "id": "KUAtdwaw5bik"
      },
      "outputs": [],
      "source": [
        "# get input from user\n",
        "#input() get string input"
      ]
    },
    {
      "cell_type": "code",
      "execution_count": null,
      "metadata": {
        "id": "wEAaan0l6QQ_"
      },
      "outputs": [],
      "source": [
        "def greeting_name2():\n",
        "  name = input(\"What's your name? \")\n",
        "  print(f\"Greeting {name}!\")"
      ]
    },
    {
      "cell_type": "code",
      "execution_count": null,
      "metadata": {
        "colab": {
          "base_uri": "https://localhost:8080/"
        },
        "id": "MWiyWq_c6XMd",
        "outputId": "888a408d-2903-4cd0-c723-79ab5929a6c5"
      },
      "outputs": [
        {
          "name": "stdout",
          "output_type": "stream",
          "text": [
            "What's your name? j\n",
            "Greeting j!\n"
          ]
        }
      ],
      "source": [
        "greeting_name2()"
      ]
    },
    {
      "cell_type": "code",
      "execution_count": null,
      "metadata": {
        "colab": {
          "base_uri": "https://localhost:8080/"
        },
        "id": "eRDYPmU67QvF",
        "outputId": "179230e0-2899-4bc4-ef9e-7d1193ad899d"
      },
      "outputs": [
        {
          "name": "stdout",
          "output_type": "stream",
          "text": [
            "210\n"
          ]
        }
      ],
      "source": [
        "#normal function\n",
        "def add_two_nums(a, b):\n",
        "  return a+b\n",
        "\n",
        "result = add_two_nums(10, 200)\n",
        "print(result)"
      ]
    },
    {
      "cell_type": "code",
      "execution_count": null,
      "metadata": {
        "colab": {
          "base_uri": "https://localhost:8080/"
        },
        "id": "tQZuoGpJ77rc",
        "outputId": "d6a94c9b-7fd5-4cca-c83d-2a7d8d9d6f09"
      },
      "outputs": [
        {
          "data": {
            "text/plain": [
              "25"
            ]
          },
          "execution_count": 12,
          "metadata": {},
          "output_type": "execute_result"
        }
      ],
      "source": [
        "# lambda function(only python!)\n",
        "add_two_nums = lambda a,b: a+b\n",
        "add_two_nums(10, 15)"
      ]
    },
    {
      "cell_type": "code",
      "execution_count": null,
      "metadata": {
        "colab": {
          "base_uri": "https://localhost:8080/"
        },
        "id": "ItDyw2248hu1",
        "outputId": "1af01ca6-b5ff-44e3-a198-d534b83f1158"
      },
      "outputs": [
        {
          "name": "stdout",
          "output_type": "stream",
          "text": [
            "Hello! toy\n"
          ]
        }
      ],
      "source": [
        "greeting = lambda name: f\"Hello! {name}\"\n",
        "result = greeting(\"toy\")\n",
        "\n",
        "print(result)"
      ]
    },
    {
      "cell_type": "markdown",
      "metadata": {
        "id": "WjkJUVRF9SCD"
      },
      "source": [
        "## **Sting**"
      ]
    },
    {
      "cell_type": "code",
      "execution_count": null,
      "metadata": {
        "colab": {
          "base_uri": "https://localhost:8080/"
        },
        "id": "gvebYWjj9XXl",
        "outputId": "b768d6f0-ff21-45e6-faba-df86b73c32fd"
      },
      "outputs": [
        {
          "name": "stdout",
          "output_type": "stream",
          "text": [
            "Hello world\n",
            "I'm learning python\n",
            "It's as easy as R!\n",
            "CooL!\n"
          ]
        }
      ],
      "source": [
        "long_text = \"\"\"Hello world\n",
        "I'm learning python\n",
        "It's as easy as R!\n",
        "CooL!\"\"\"\n",
        "\n",
        "print(long_text)"
      ]
    },
    {
      "cell_type": "code",
      "execution_count": null,
      "metadata": {
        "id": "_gNSaC1y9vsb"
      },
      "outputs": [],
      "source": [
        "text = \"a duck walks into a bar....\""
      ]
    },
    {
      "cell_type": "code",
      "execution_count": null,
      "metadata": {
        "colab": {
          "base_uri": "https://localhost:8080/"
        },
        "id": "2_d8d0TV-not",
        "outputId": "64924751-e47f-4b5c-ee56-ed03daafb804"
      },
      "outputs": [
        {
          "name": "stdout",
          "output_type": "stream",
          "text": [
            "27\n",
            "a duck walks into a bar....\n"
          ]
        }
      ],
      "source": [
        "# function vs. method\n",
        "print(len(text))\n",
        "print(text)"
      ]
    },
    {
      "cell_type": "code",
      "execution_count": null,
      "metadata": {
        "colab": {
          "base_uri": "https://localhost:8080/"
        },
        "id": "4XOEr_8W-p1G",
        "outputId": "a7dc9d62-089a-4480-e5a6-ea7df57a6200"
      },
      "outputs": [
        {
          "name": "stdout",
          "output_type": "stream",
          "text": [
            "a lion walks into a bar....\n"
          ]
        }
      ],
      "source": [
        "# string methods (ทุก method คือ function แต่ไม่ใช่ทุก function จะเป็น method)\n",
        "text.upper()\n",
        "text.lower()\n",
        "\n",
        "text = text.replace(\"duck\", \"lion\")\n",
        "print(text)"
      ]
    },
    {
      "cell_type": "code",
      "execution_count": null,
      "metadata": {
        "colab": {
          "base_uri": "https://localhost:8080/"
        },
        "id": "7M4n2jNI_BT3",
        "outputId": "3b70d760-2b43-4244-cdf9-bdf1ab3421b9"
      },
      "outputs": [
        {
          "name": "stdout",
          "output_type": "stream",
          "text": [
            "a lion walks into a bar\n"
          ]
        }
      ],
      "source": [
        "# strip (ใช้ลบอักขระพิเศษ)\n",
        "\"               hello world                     \".strip(\" \")\n",
        "text = text.strip(\".\")\n",
        "print(text)"
      ]
    },
    {
      "cell_type": "code",
      "execution_count": null,
      "metadata": {
        "colab": {
          "base_uri": "https://localhost:8080/"
        },
        "id": "cTHtxHRzAS8g",
        "outputId": "099eb20f-64d9-4d83-86a5-788eeb92a252"
      },
      "outputs": [
        {
          "data": {
            "text/plain": [
              "4"
            ]
          },
          "execution_count": 19,
          "metadata": {},
          "output_type": "execute_result"
        }
      ],
      "source": [
        "# count\n",
        "text.count(\"a\")"
      ]
    },
    {
      "cell_type": "code",
      "execution_count": null,
      "metadata": {
        "colab": {
          "base_uri": "https://localhost:8080/",
          "height": 53
        },
        "id": "WrHgkIlqAhQd",
        "outputId": "8e2d912a-e90c-4829-ee09-33aac45f9bcc"
      },
      "outputs": [
        {
          "name": "stdout",
          "output_type": "stream",
          "text": [
            "['a', 'lion', 'walks', 'into', 'a', 'bar']\n"
          ]
        },
        {
          "data": {
            "application/vnd.google.colaboratory.intrinsic+json": {
              "type": "string"
            },
            "text/plain": [
              "'a++lion++walks++into++a++bar'"
            ]
          },
          "execution_count": 20,
          "metadata": {},
          "output_type": "execute_result"
        }
      ],
      "source": [
        "# split and join text\n",
        "split_text = text.split(\" \")\n",
        "print(split_text)\n",
        "\n",
        "\"++\".join(split_text)"
      ]
    },
    {
      "cell_type": "code",
      "execution_count": null,
      "metadata": {
        "id": "4Af5I7DOBKqY"
      },
      "outputs": [],
      "source": [
        "# subset / indexing\n",
        "# python index starts with 0"
      ]
    },
    {
      "cell_type": "markdown",
      "metadata": {},
      "source": [
        "HW \n",
        "1. เป่ายิ้งฉุบ\n",
        "2. atm method"
      ]
    }
  ],
  "metadata": {
    "colab": {
      "authorship_tag": "ABX9TyPlwJKLw8ouXVezeWuLdiFL",
      "include_colab_link": true,
      "provenance": []
    },
    "kernelspec": {
      "display_name": "Python 3",
      "name": "python3"
    },
    "language_info": {
      "name": "python"
    }
  },
  "nbformat": 4,
  "nbformat_minor": 0
}
